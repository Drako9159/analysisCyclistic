{
 "cells": [
  {
   "cell_type": "code",
   "execution_count": 40,
   "metadata": {},
   "outputs": [
    {
     "name": "stderr",
     "output_type": "stream",
     "text": [
      "C:\\Users\\antonio\\AppData\\Local\\Temp\\ipykernel_1716\\3831020144.py:65: MatplotlibDeprecationWarning: The seaborn styles shipped by Matplotlib are deprecated since 3.6, as they no longer correspond to the styles shipped by seaborn. However, they will remain available as 'seaborn-v0_8-<style>'. Alternatively, directly use the seaborn API instead.\n",
      "  plt.style.use(\"seaborn\")\n"
     ]
    }
   ],
   "source": [
    "import pandas as pd\n",
    "import numpy as np\n",
    "from matplotlib import pyplot as plt\n",
    "\n",
    "\n",
    "results = pd.read_csv(\"./csv/survey_results_public.csv\", index_col=\"ResponseId\")\n",
    "resultsSchema = pd.read_csv(\"./csv/survey_results_schema.csv\")\n",
    "\n",
    "languages = \"LanguageHaveWorkedWith\"\n",
    "salary = \"ConvertedCompYearly\"\n",
    "results.rename(columns={languages: \"Languages\", salary: \"Salary\"}, inplace=True)\n",
    "## Cuando hay NaN\n",
    "results.dropna(subset=[\"Salary\", \"Languages\"], inplace=True)\n",
    "# Filtra Datos de Country, Salary, Languages y los ordena por Salary\n",
    "results = results.loc[:,[\"Country\", \"Salary\", \"Languages\"]].sort_values(by=\"Salary\")\n",
    "# Filtra que el salario sea entre 10 mil y 3 millones\n",
    "filtro = (results[\"Salary\"] >= 10000) & (results[\"Salary\"] <= 3e6)\n",
    "results = results[filtro]\n",
    "\n",
    "# Obtener lista de lenguajes usados\n",
    "lg = results[\"Languages\"]\n",
    "allLanguages = lg[21403].split(\";\")\n",
    "for row in lg:\n",
    "    for lang in row.split(\";\"):\n",
    "        allLanguages.append(lang)\n",
    "# Crea otra lista con valores únicos\n",
    "allLanguages = list(set(allLanguages))\n",
    "# Los ordena\n",
    "allLanguages.sort()\n",
    "\n",
    "# Crea array de zeros para salary\n",
    "meanSalary = pd.DataFrame(data=np.zeros(len(allLanguages)), index=allLanguages, columns=[\"Salary\"])\n",
    "# Calcula salario medio para cada lenguaje\n",
    "# Solucion C++ contains\n",
    "import re\n",
    "for lang in allLanguages:\n",
    "    try:\n",
    "        mask = results[\"Languages\"].str.contains(re.escape(lang))\n",
    "        average = results.loc[mask, \"Salary\"].mean()\n",
    "        meanSalary.loc[lang, \"Salary\"] = average\n",
    "    except Exception:\n",
    "        print(lang)\n",
    "    \n",
    "colors = [\n",
    "    \"#03071E\",\n",
    "    \"#370617\",\n",
    "    \"#6A040F\",\n",
    "    \"#9D020B\",\n",
    "    \"#D00000\",\n",
    "    \"#DC2F02\",\n",
    "    \"#E85D04\",\n",
    "    \"#F48C06\",\n",
    "    \"#FAA307\",\n",
    "    \"#FFBA08\"\n",
    "]\n",
    "fontdict = {\n",
    "    \"family\": \"serif\",\n",
    "    \"color\": \"darkred\",\n",
    "    \"weight\": \"normal\",\n",
    "    \"size\": 16\n",
    "}\n",
    "# Para salir de jupiter notebook\n",
    "%matplotlib qt5\n",
    "\n",
    "plt.style.use(\"seaborn\")\n",
    "meanSalary.sort_values(by=\"Salary\", inplace=True)\n",
    "plt.barh(meanSalary.index, meanSalary[\"Salary\"], color=colors)\n",
    "plt.vlines(meanSalary[\"Salary\"].mean(), 0, len(meanSalary[\"Salary\"]), colors=\"red\", linestyles=\"dashed\", label=\"Mean Salary\")\n",
    "plt.title(\"Programing languages salary\")\n",
    "plt.xlabel(\"Min Salary in Dollars\")\n",
    "plt.ylabel(\"Programming languages\")\n",
    "plt.gca().xaxis.set_major_formatter(\"${x:1.0f}\")\n",
    "plt.legend()\n",
    "plt.tight_layout()\n",
    "plt.show()\n",
    "\n"
   ]
  }
 ],
 "metadata": {
  "kernelspec": {
   "display_name": "Python 3.10.8 64-bit",
   "language": "python",
   "name": "python3"
  },
  "language_info": {
   "codemirror_mode": {
    "name": "ipython",
    "version": 3
   },
   "file_extension": ".py",
   "mimetype": "text/x-python",
   "name": "python",
   "nbconvert_exporter": "python",
   "pygments_lexer": "ipython3",
   "version": "3.10.8"
  },
  "orig_nbformat": 4,
  "vscode": {
   "interpreter": {
    "hash": "444e44a3a579f6a363cc7d12cf690dc89f3d77ca0f02e9ae983b8efaf3d50917"
   }
  }
 },
 "nbformat": 4,
 "nbformat_minor": 2
}
